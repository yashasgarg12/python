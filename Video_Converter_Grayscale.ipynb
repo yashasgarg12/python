{
  "nbformat": 4,
  "nbformat_minor": 0,
  "metadata": {
    "colab": {
      "name": "Video Converter_Grayscale.ipynb",
      "provenance": [],
      "authorship_tag": "ABX9TyN4p8rlzcW7Nr5UbGGla3ZI",
      "include_colab_link": true
    },
    "kernelspec": {
      "name": "python3",
      "display_name": "Python 3"
    },
    "language_info": {
      "name": "python"
    }
  },
  "cells": [
    {
      "cell_type": "markdown",
      "metadata": {
        "id": "view-in-github",
        "colab_type": "text"
      },
      "source": [
        "<a href=\"https://colab.research.google.com/github/yashasgarg12/python/blob/main/Video_Converter_Grayscale.ipynb\" target=\"_parent\"><img src=\"https://colab.research.google.com/assets/colab-badge.svg\" alt=\"Open In Colab\"/></a>"
      ]
    },
    {
      "cell_type": "code",
      "execution_count": 4,
      "metadata": {
        "colab": {
          "base_uri": "https://localhost:8080/",
          "height": 249
        },
        "id": "5p_9N19wHfXp",
        "outputId": "e1ecf9fb-44ec-49ea-d28e-762d0935c24a"
      },
      "outputs": [
        {
          "output_type": "error",
          "ename": "error",
          "evalue": "ignored",
          "traceback": [
            "\u001b[0;31m---------------------------------------------------------------------------\u001b[0m",
            "\u001b[0;31merror\u001b[0m                                     Traceback (most recent call last)",
            "\u001b[0;32m<ipython-input-4-197cccca98b6>\u001b[0m in \u001b[0;36m<module>\u001b[0;34m()\u001b[0m\n\u001b[1;32m     13\u001b[0m         \u001b[0;32mbreak\u001b[0m\u001b[0;34m\u001b[0m\u001b[0;34m\u001b[0m\u001b[0m\n\u001b[1;32m     14\u001b[0m     \u001b[0;31m#cv2.imshow(\"output\",frame)\u001b[0m\u001b[0;34m\u001b[0m\u001b[0;34m\u001b[0m\u001b[0;34m\u001b[0m\u001b[0m\n\u001b[0;32m---> 15\u001b[0;31m     \u001b[0mcv2\u001b[0m\u001b[0;34m.\u001b[0m\u001b[0mimwrite\u001b[0m\u001b[0;34m(\u001b[0m\u001b[0;34m'/content/data/frame'\u001b[0m\u001b[0;34m+\u001b[0m\u001b[0mstr\u001b[0m\u001b[0;34m(\u001b[0m\u001b[0mcurrentFrame\u001b[0m\u001b[0;34m)\u001b[0m\u001b[0;34m+\u001b[0m\u001b[0;34m'.jpg'\u001b[0m\u001b[0;34m,\u001b[0m\u001b[0mframe\u001b[0m\u001b[0;34m)\u001b[0m\u001b[0;34m\u001b[0m\u001b[0;34m\u001b[0m\u001b[0m\n\u001b[0m\u001b[1;32m     16\u001b[0m     \u001b[0mcurrentFrame\u001b[0m\u001b[0;34m+=\u001b[0m\u001b[0;36m1\u001b[0m\u001b[0;34m\u001b[0m\u001b[0;34m\u001b[0m\u001b[0m\n\u001b[1;32m     17\u001b[0m \u001b[0;34m\u001b[0m\u001b[0m\n",
            "\u001b[0;31merror\u001b[0m: OpenCV(4.1.2) /io/opencv/modules/imgcodecs/src/loadsave.cpp:715: error: (-215:Assertion failed) !_img.empty() in function 'imwrite'\n"
          ]
        }
      ],
      "source": [
        "# convert video to its frames\n",
        "from google.colab import files\n",
        "import cv2\n",
        "import os\n",
        "vid=cv2.VideoCapture(\"/content/1 Minute Timer - Clean and Simple.mp4\")\n",
        "currentFrame=0\n",
        "if not os.path.exists('data'):\n",
        "    os.makedirs(\"data\")\n",
        "\n",
        "while(True):\n",
        "    success, frame=vid.read()\n",
        "    if cv2.waitKey(1) & 0xFF==ord('q'):\n",
        "        break\n",
        "    #cv2.imshow(\"output\",frame)\n",
        "    cv2.imwrite('/content/data/frame'+str(currentFrame)+'.jpg',frame)\n",
        "    currentFrame+=1\n",
        "    \n",
        "vid.release()\n",
        "cv2.destroyAllWindows()"
      ]
    },
    {
      "cell_type": "code",
      "source": [
        "# Now, converting each frame to grayscale\n",
        "cf=0\n",
        "if not os.path.exists(\"/content/data_gray\"):\n",
        "  os.makedirs(\"data_gray\")\n",
        "\n",
        "while (cf<currentFrame):\n",
        "    image=cv2.imread(\"/content/data/frame\"+str(cf)+\".jpg\",1)\n",
        "    image_gray=cv2.cvtColor(image,cv2.COLOR_BGR2GRAY)\n",
        "    cv2.imwrite(\"/content/data_gray/frame\"+str(cf)+\".jpg\",image_gray)\n",
        "    cf+=1\n"
      ],
      "metadata": {
        "id": "J1uaEKDnHnnX"
      },
      "execution_count": 5,
      "outputs": []
    },
    {
      "cell_type": "code",
      "source": [
        "# Now, we will convert back the grayscale frames to a video\n",
        "\n",
        "import cv2\n",
        "\n",
        "img_sample=cv2.imread(\"/content/data_gray/frame0.jpg\")\n",
        "w,h,c= img_sample.shape\n",
        "frameSize = (h,w)\n",
        "\n",
        "out = cv2.VideoWriter('/content/grayscale_converted.mp4',cv2.VideoWriter_fourcc(*'mp4v'), 30, frameSize)\n",
        "i=1\n",
        "while(True):\n",
        "    if(i>currentFrame):\n",
        "        break\n",
        "    filename=\"/content/data_gray/frame%d.jpg\"%(i)\n",
        "    img = cv2.imread(filename)\n",
        "    out.write(img)\n",
        "    i+=1\n",
        "\n",
        "out.release()"
      ],
      "metadata": {
        "id": "UjwaPSUxHrtn"
      },
      "execution_count": 7,
      "outputs": []
    }
  ]
}